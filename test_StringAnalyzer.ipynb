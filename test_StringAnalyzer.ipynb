{
 "cells": [
  {
   "cell_type": "code",
   "execution_count": 1,
   "id": "0fc02ccc-b231-4b55-810c-577a097eed1b",
   "metadata": {},
   "outputs": [],
   "source": [
    "from src.StringAnalyzer import analyze_string\n",
    "from src.StringAnalyzer import Utilities\n",
    "\n",
    "utils = Utilities()"
   ]
  },
  {
   "cell_type": "code",
   "execution_count": 8,
   "id": "e38435ce-2462-4303-9795-01dc35cb9c37",
   "metadata": {},
   "outputs": [
    {
     "name": "stdout",
     "output_type": "stream",
     "text": [
      "input: Kennedystraße, 51147 Köln, ドイツ¥\n",
      "number of string: 31\n"
     ]
    }
   ],
   "source": [
    "input_string = 'Kennedystraße, 51147 Köln, ドイツ'\n",
    "input_string += chr(165)\n",
    "print(f'input: {input_string}')\n",
    "print(f'number of string: {len(input_string)}')"
   ]
  },
  {
   "cell_type": "code",
   "execution_count": 5,
   "id": "9ae586b6-b8ae-4098-9225-5086fefc9795",
   "metadata": {},
   "outputs": [
    {
     "data": {
      "text/plain": [
       "{'numeric': 5, 'alphabet': 20, 'non_alphanumeric': 5, 'other': 1}"
      ]
     },
     "execution_count": 5,
     "metadata": {},
     "output_type": "execute_result"
    }
   ],
   "source": [
    "analyze_string(input_string = input_string, is_comprehensive=False)"
   ]
  },
  {
   "cell_type": "code",
   "execution_count": 6,
   "id": "877469ae-619a-46d8-858d-d9a95581e2a6",
   "metadata": {},
   "outputs": [
    {
     "name": "stdout",
     "output_type": "stream",
     "text": [
      "3\n"
     ]
    },
    {
     "data": {
      "text/plain": [
       "{'numeric': 5,\n",
       " 'lower_letter': 13,\n",
       " 'upper_letter': 2,\n",
       " 'ascii': 5,\n",
       " 'extended_ascii': 0,\n",
       " 'extended_alphabet': 2,\n",
       " 'symbols': 1,\n",
       " 'other': 3}"
      ]
     },
     "execution_count": 6,
     "metadata": {},
     "output_type": "execute_result"
    }
   ],
   "source": [
    "analyze_string(\n",
    "    input_string = input_string, \n",
    "    is_comprehensive = True\n",
    ")"
   ]
  },
  {
   "cell_type": "code",
   "execution_count": null,
   "id": "2cb32e71-10ee-48b4-9085-a8b705310d28",
   "metadata": {},
   "outputs": [],
   "source": []
  },
  {
   "cell_type": "code",
   "execution_count": null,
   "id": "314eb494-ab85-40dd-a4ae-e5cc3a3dd28a",
   "metadata": {},
   "outputs": [],
   "source": []
  }
 ],
 "metadata": {
  "kernelspec": {
   "display_name": "Python 3",
   "language": "python",
   "name": "python3"
  },
  "language_info": {
   "codemirror_mode": {
    "name": "ipython",
    "version": 3
   },
   "file_extension": ".py",
   "mimetype": "text/x-python",
   "name": "python",
   "nbconvert_exporter": "python",
   "pygments_lexer": "ipython3",
   "version": "3.8.8"
  }
 },
 "nbformat": 4,
 "nbformat_minor": 5
}
