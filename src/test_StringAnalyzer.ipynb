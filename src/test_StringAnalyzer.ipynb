{
 "cells": [
  {
   "cell_type": "code",
   "execution_count": 1,
   "id": "0fc02ccc-b231-4b55-810c-577a097eed1b",
   "metadata": {},
   "outputs": [],
   "source": [
    "from StringAnalyzer import analyze_string"
   ]
  },
  {
   "cell_type": "code",
   "execution_count": 5,
   "id": "e38435ce-2462-4303-9795-01dc35cb9c37",
   "metadata": {},
   "outputs": [],
   "source": [
    "tmp = 'AAAaaa333_+*$'"
   ]
  },
  {
   "cell_type": "code",
   "execution_count": 6,
   "id": "9ae586b6-b8ae-4098-9225-5086fefc9795",
   "metadata": {},
   "outputs": [
    {
     "data": {
      "text/plain": [
       "{'numeric': 3, 'alphabet': 6, 'non_alphanumeric': 4, 'other': 0}"
      ]
     },
     "execution_count": 6,
     "metadata": {},
     "output_type": "execute_result"
    }
   ],
   "source": [
    "analyze_string(tmp, False)"
   ]
  },
  {
   "cell_type": "code",
   "execution_count": 7,
   "id": "877469ae-619a-46d8-858d-d9a95581e2a6",
   "metadata": {},
   "outputs": [
    {
     "data": {
      "text/plain": [
       "{'null': 0,\n",
       " 'numeric': 3,\n",
       " 'lower_letter': 3,\n",
       " 'upper_letter': 3,\n",
       " 'non_alphanumeric': 4,\n",
       " 'other': 0}"
      ]
     },
     "execution_count": 7,
     "metadata": {},
     "output_type": "execute_result"
    }
   ],
   "source": [
    "analyze_string(tmp, True)"
   ]
  },
  {
   "cell_type": "code",
   "execution_count": null,
   "id": "5ba0a911-efd6-49d0-b2b9-669fe696828b",
   "metadata": {},
   "outputs": [],
   "source": []
  }
 ],
 "metadata": {
  "kernelspec": {
   "display_name": "Python 3",
   "language": "python",
   "name": "python3"
  },
  "language_info": {
   "codemirror_mode": {
    "name": "ipython",
    "version": 3
   },
   "file_extension": ".py",
   "mimetype": "text/x-python",
   "name": "python",
   "nbconvert_exporter": "python",
   "pygments_lexer": "ipython3",
   "version": "3.8.8"
  }
 },
 "nbformat": 4,
 "nbformat_minor": 5
}
